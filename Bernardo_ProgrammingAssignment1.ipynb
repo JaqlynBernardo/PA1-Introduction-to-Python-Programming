{
 "cells": [
  {
   "cell_type": "markdown",
   "id": "180998ca-95d5-499c-93a0-3cc937aaa574",
   "metadata": {
    "panel-layout": {
     "height": 51.13750076293945,
     "visible": true,
     "width": 100
    }
   },
   "source": [
    "PROGRAMMING ASSIGNMENT #1: Introduction to Python Programming"
   ]
  },
  {
   "cell_type": "markdown",
   "id": "e79a9eb8-6915-4b14-91bf-8c7249a68914",
   "metadata": {
    "panel-layout": {
     "height": 51.13750076293945,
     "visible": true,
     "width": 100
    }
   },
   "source": [
    "Bernardo, Jaqlyn Trazy B.  //  2ECE-C  //  August 23, 2025"
   ]
  },
  {
   "cell_type": "markdown",
   "id": "26a5c8b4-78d5-4bf6-a903-7a23dfebe5e4",
   "metadata": {
    "panel-layout": {
     "height": 51.13750076293945,
     "visible": true,
     "width": 100
    }
   },
   "source": [
    "PROBLEM #1: Alphabet Soup Problem"
   ]
  },
  {
   "cell_type": "code",
   "execution_count": 87,
   "id": "712f8ccb-4a02-41d6-b24e-8af11094f855",
   "metadata": {},
   "outputs": [
    {
     "name": "stdout",
     "output_type": "stream",
     "text": [
      "ehllo\n",
      "acehkr\n",
      "abcdeeefghhijklmnoooopqrrsttuuvwxyz\n"
     ]
    }
   ],
   "source": [
    "def alphabet_soup(word):\n",
    "    character = list(word)\n",
    "    character.sort()\n",
    "    result = ''.join(character)\n",
    "    print(result)\n",
    "\n",
    "alphabet_soup(\"hello\")\n",
    "alphabet_soup(\"hacker\")\n",
    "alphabet_soup(\"thequickbrownfoxjumpsoverthelazydog\")"
   ]
  },
  {
   "cell_type": "markdown",
   "id": "ef1c5f8a-8749-4f6b-9bb8-1f018b4fb02a",
   "metadata": {},
   "source": [
    "PROBLEM #2: Emoticon Problem"
   ]
  },
  {
   "cell_type": "code",
   "execution_count": 88,
   "id": "9183113c-8603-47a0-bef5-3d746376399d",
   "metadata": {},
   "outputs": [
    {
     "name": "stdout",
     "output_type": "stream",
     "text": [
      "Make me :)\n",
      "I am >:(\n",
      "Why are you :((?\n",
      "You made me :D\n"
     ]
    }
   ],
   "source": [
    "def emotify(phrase):\n",
    "    if \"smile\" in phrase:\n",
    "        r = phrase.replace(\"smile\", \":)\")\n",
    "    elif \"grin\" in phrase:\n",
    "        r = phrase.replace(\"grin\", \":D\")\n",
    "    elif \"sad\" in phrase:\n",
    "        r = phrase.replace(\"sad\", \":((\")\n",
    "    elif \"mad\" in phrase:\n",
    "        r = phrase.replace(\"mad\", \">:(\")\n",
    "    else: \n",
    "        pass\n",
    "    print(r)\n",
    "\n",
    "emotify(\"Make me smile\")\n",
    "emotify(\"I am mad\")\n",
    "emotify(\"Why are you sad?\")\n",
    "emotify(\"You made me grin\")"
   ]
  },
  {
   "cell_type": "markdown",
   "id": "e24a6955-b347-4aa1-a80b-1f1207df8938",
   "metadata": {},
   "source": [
    "PROBLEM #3: Unpacking List Problem"
   ]
  },
  {
   "cell_type": "code",
   "execution_count": 85,
   "id": "89b5614c-3a51-4b1f-9c75-adcbe30f7833",
   "metadata": {},
   "outputs": [
    {
     "name": "stdout",
     "output_type": "stream",
     "text": [
      "First: 1\n",
      "Middle: [2, 3, 4, 5, 6, 7, 8, 9, 10, 11, 12, 13, 14]\n",
      "Last: 15\n"
     ]
    }
   ],
   "source": [
    "lst = [1, 2, 3, 4, 5, 6, 7, 8, 9, 10, 11, 12, 13, 14, 15] # reference list\n",
    "\n",
    "# First\n",
    "print(\"First:\", lst[0])\n",
    "\n",
    "# Middle\n",
    "lst_num = len(lst) # number of elements in list\n",
    "middle = [] # empty set\n",
    "i = 1 # increment\n",
    "while i < lst_num - 1:\n",
    "    middle.append(lst[i])\n",
    "    i += 1\n",
    "print(\"Middle:\", middle)\n",
    "\n",
    "# Last\n",
    "print(\"Last:\", lst[-1])"
   ]
  }
 ],
 "metadata": {
  "kernelspec": {
   "display_name": "Python [conda env:base] *",
   "language": "python",
   "name": "conda-base-py"
  },
  "language_info": {
   "codemirror_mode": {
    "name": "ipython",
    "version": 3
   },
   "file_extension": ".py",
   "mimetype": "text/x-python",
   "name": "python",
   "nbconvert_exporter": "python",
   "pygments_lexer": "ipython3",
   "version": "3.13.5"
  },
  "panel-cell-order": [
   "180998ca-95d5-499c-93a0-3cc937aaa574",
   "e79a9eb8-6915-4b14-91bf-8c7249a68914",
   "26a5c8b4-78d5-4bf6-a903-7a23dfebe5e4"
  ]
 },
 "nbformat": 4,
 "nbformat_minor": 5
}
